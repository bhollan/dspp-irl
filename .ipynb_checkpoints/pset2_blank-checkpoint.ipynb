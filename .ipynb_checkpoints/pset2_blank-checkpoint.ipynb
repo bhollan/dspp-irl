{
 "cells": [
  {
   "cell_type": "markdown",
   "metadata": {},
   "source": [
    "# Problem Set 2 (Total: 64 points)"
   ]
  },
  {
   "cell_type": "markdown",
   "metadata": {},
   "source": [
    "<b>A Small Intro </b>\n",
    "\n",
    "For this assignment, we will be using Cook County's (in Illinois) sentencing dataset. This dataset reports the sentence given to defendants convicted of different crimes."
   ]
  },
  {
   "cell_type": "markdown",
   "metadata": {},
   "source": [
    "# 0. Load packages and imports"
   ]
  },
  {
   "cell_type": "code",
   "execution_count": 2,
   "metadata": {},
   "outputs": [],
   "source": [
    "## basic functionality\n",
    "import pandas as pd\n",
    "import numpy as np\n",
    "import re\n",
    "\n",
    "## plotting\n",
    "## note: you likely need to install this using\n",
    "## pip or conda; you can delete this line\n",
    "## if you're using matplotlib, seaborn, or other\n",
    "## plotting pkg\n",
    "import plotnine\n",
    "from plotnine import *\n",
    "\n",
    "## repeated printouts\n",
    "from IPython.core.interactiveshell import InteractiveShell\n",
    "InteractiveShell.ast_node_interactivity = \"all\"\n",
    "\n",
    "## datetime util\n",
    "from dateutil.relativedelta import relativedelta\n"
   ]
  },
  {
   "cell_type": "markdown",
   "metadata": {},
   "source": [
    "## 0.1 Load the data (0 points)\n",
    "\n",
    "Use `pd.read_csv` to load the `sentencing_asof0405.csv` data (make sure to unzip the `pset2_inputdata` folder and not hard code your user-specific path name)\n",
    "\n",
    "*Notes*: You may receive a warning about mixed data types upon import; feel free to ignore"
   ]
  },
  {
   "cell_type": "code",
   "execution_count": 3,
   "metadata": {},
   "outputs": [
    {
     "name": "stderr",
     "output_type": "stream",
     "text": [
      "/tmp/ipykernel_532/3095793089.py:1: DtypeWarning: Columns (10,11,14,25) have mixed types. Specify dtype option on import or set low_memory=False.\n"
     ]
    },
    {
     "data": {
      "text/html": [
       "<div>\n",
       "<style scoped>\n",
       "    .dataframe tbody tr th:only-of-type {\n",
       "        vertical-align: middle;\n",
       "    }\n",
       "\n",
       "    .dataframe tbody tr th {\n",
       "        vertical-align: top;\n",
       "    }\n",
       "\n",
       "    .dataframe thead th {\n",
       "        text-align: right;\n",
       "    }\n",
       "</style>\n",
       "<table border=\"1\" class=\"dataframe\">\n",
       "  <thead>\n",
       "    <tr style=\"text-align: right;\">\n",
       "      <th></th>\n",
       "      <th>CASE_ID</th>\n",
       "      <th>CASE_PARTICIPANT_ID</th>\n",
       "      <th>RECEIVED_DATE</th>\n",
       "      <th>OFFENSE_CATEGORY</th>\n",
       "      <th>PRIMARY_CHARGE_FLAG</th>\n",
       "      <th>CHARGE_ID</th>\n",
       "      <th>CHARGE_VERSION_ID</th>\n",
       "      <th>DISPOSITION_CHARGED_OFFENSE_TITLE</th>\n",
       "      <th>CHARGE_COUNT</th>\n",
       "      <th>DISPOSITION_DATE</th>\n",
       "      <th>...</th>\n",
       "      <th>INCIDENT_CITY</th>\n",
       "      <th>INCIDENT_BEGIN_DATE</th>\n",
       "      <th>INCIDENT_END_DATE</th>\n",
       "      <th>LAW_ENFORCEMENT_AGENCY</th>\n",
       "      <th>LAW_ENFORCEMENT_UNIT</th>\n",
       "      <th>ARREST_DATE</th>\n",
       "      <th>FELONY_REVIEW_DATE</th>\n",
       "      <th>FELONY_REVIEW_RESULT</th>\n",
       "      <th>ARRAIGNMENT_DATE</th>\n",
       "      <th>UPDATED_OFFENSE_CATEGORY</th>\n",
       "    </tr>\n",
       "  </thead>\n",
       "  <tbody>\n",
       "    <tr>\n",
       "      <th>0</th>\n",
       "      <td>149765331439</td>\n",
       "      <td>175691153649</td>\n",
       "      <td>8/15/1984 12:00:00 AM</td>\n",
       "      <td>PROMIS Conversion</td>\n",
       "      <td>False</td>\n",
       "      <td>50510112469</td>\n",
       "      <td>116304211997</td>\n",
       "      <td>FIRST DEGREE MURDER</td>\n",
       "      <td>2</td>\n",
       "      <td>12/17/2014 12:00:00 AM</td>\n",
       "      <td>...</td>\n",
       "      <td>NaN</td>\n",
       "      <td>8/9/1984 12:00:00 AM</td>\n",
       "      <td>NaN</td>\n",
       "      <td>CHICAGO POLICE DEPT</td>\n",
       "      <td>NaN</td>\n",
       "      <td>8/15/1984 12:00:00 AM</td>\n",
       "      <td>08/15/1984 12:00:00 AM</td>\n",
       "      <td>Charge(S) Approved</td>\n",
       "      <td>9/21/1984 12:00:00 AM</td>\n",
       "      <td>Homicide</td>\n",
       "    </tr>\n",
       "    <tr>\n",
       "      <th>1</th>\n",
       "      <td>149765331439</td>\n",
       "      <td>175691153649</td>\n",
       "      <td>8/15/1984 12:00:00 AM</td>\n",
       "      <td>PROMIS Conversion</td>\n",
       "      <td>False</td>\n",
       "      <td>50510213021</td>\n",
       "      <td>98265074680</td>\n",
       "      <td>HOME INVASION</td>\n",
       "      <td>14</td>\n",
       "      <td>12/17/2014 12:00:00 AM</td>\n",
       "      <td>...</td>\n",
       "      <td>NaN</td>\n",
       "      <td>8/9/1984 12:00:00 AM</td>\n",
       "      <td>NaN</td>\n",
       "      <td>CHICAGO POLICE DEPT</td>\n",
       "      <td>NaN</td>\n",
       "      <td>8/15/1984 12:00:00 AM</td>\n",
       "      <td>08/15/1984 12:00:00 AM</td>\n",
       "      <td>Charge(S) Approved</td>\n",
       "      <td>9/21/1984 12:00:00 AM</td>\n",
       "      <td>Homicide</td>\n",
       "    </tr>\n",
       "    <tr>\n",
       "      <th>2</th>\n",
       "      <td>149765331439</td>\n",
       "      <td>175691153649</td>\n",
       "      <td>8/15/1984 12:00:00 AM</td>\n",
       "      <td>PROMIS Conversion</td>\n",
       "      <td>False</td>\n",
       "      <td>50516447217</td>\n",
       "      <td>131972895911</td>\n",
       "      <td>FIRST DEGREE MURDER</td>\n",
       "      <td>4</td>\n",
       "      <td>12/17/2014 12:00:00 AM</td>\n",
       "      <td>...</td>\n",
       "      <td>NaN</td>\n",
       "      <td>8/9/1984 12:00:00 AM</td>\n",
       "      <td>NaN</td>\n",
       "      <td>CHICAGO POLICE DEPT</td>\n",
       "      <td>NaN</td>\n",
       "      <td>8/15/1984 12:00:00 AM</td>\n",
       "      <td>08/15/1984 12:00:00 AM</td>\n",
       "      <td>Charge(S) Approved</td>\n",
       "      <td>9/21/1984 12:00:00 AM</td>\n",
       "      <td>Homicide</td>\n",
       "    </tr>\n",
       "    <tr>\n",
       "      <th>3</th>\n",
       "      <td>149765331439</td>\n",
       "      <td>175691153649</td>\n",
       "      <td>8/15/1984 12:00:00 AM</td>\n",
       "      <td>PROMIS Conversion</td>\n",
       "      <td>False</td>\n",
       "      <td>50516497493</td>\n",
       "      <td>131966356472</td>\n",
       "      <td>FIRST DEGREE MURDER</td>\n",
       "      <td>5</td>\n",
       "      <td>12/17/2014 12:00:00 AM</td>\n",
       "      <td>...</td>\n",
       "      <td>NaN</td>\n",
       "      <td>8/9/1984 12:00:00 AM</td>\n",
       "      <td>NaN</td>\n",
       "      <td>CHICAGO POLICE DEPT</td>\n",
       "      <td>NaN</td>\n",
       "      <td>8/15/1984 12:00:00 AM</td>\n",
       "      <td>08/15/1984 12:00:00 AM</td>\n",
       "      <td>Charge(S) Approved</td>\n",
       "      <td>9/21/1984 12:00:00 AM</td>\n",
       "      <td>Homicide</td>\n",
       "    </tr>\n",
       "    <tr>\n",
       "      <th>4</th>\n",
       "      <td>149765331439</td>\n",
       "      <td>175691153649</td>\n",
       "      <td>8/15/1984 12:00:00 AM</td>\n",
       "      <td>PROMIS Conversion</td>\n",
       "      <td>False</td>\n",
       "      <td>50516648320</td>\n",
       "      <td>98059642859</td>\n",
       "      <td>HOME INVASION</td>\n",
       "      <td>13</td>\n",
       "      <td>12/17/2014 12:00:00 AM</td>\n",
       "      <td>...</td>\n",
       "      <td>NaN</td>\n",
       "      <td>8/9/1984 12:00:00 AM</td>\n",
       "      <td>NaN</td>\n",
       "      <td>CHICAGO POLICE DEPT</td>\n",
       "      <td>NaN</td>\n",
       "      <td>8/15/1984 12:00:00 AM</td>\n",
       "      <td>08/15/1984 12:00:00 AM</td>\n",
       "      <td>Charge(S) Approved</td>\n",
       "      <td>9/21/1984 12:00:00 AM</td>\n",
       "      <td>Homicide</td>\n",
       "    </tr>\n",
       "    <tr>\n",
       "      <th>...</th>\n",
       "      <td>...</td>\n",
       "      <td>...</td>\n",
       "      <td>...</td>\n",
       "      <td>...</td>\n",
       "      <td>...</td>\n",
       "      <td>...</td>\n",
       "      <td>...</td>\n",
       "      <td>...</td>\n",
       "      <td>...</td>\n",
       "      <td>...</td>\n",
       "      <td>...</td>\n",
       "      <td>...</td>\n",
       "      <td>...</td>\n",
       "      <td>...</td>\n",
       "      <td>...</td>\n",
       "      <td>...</td>\n",
       "      <td>...</td>\n",
       "      <td>...</td>\n",
       "      <td>...</td>\n",
       "      <td>...</td>\n",
       "      <td>...</td>\n",
       "    </tr>\n",
       "    <tr>\n",
       "      <th>248141</th>\n",
       "      <td>445516248775</td>\n",
       "      <td>905289187184</td>\n",
       "      <td>2/3/2021 12:00:00 AM</td>\n",
       "      <td>Home Invasion</td>\n",
       "      <td>True</td>\n",
       "      <td>447867029248</td>\n",
       "      <td>836341344232</td>\n",
       "      <td>AGGRAVATED UNLAWFUL USE OF WEAPON</td>\n",
       "      <td>1</td>\n",
       "      <td>3/19/2021 12:00:00 AM</td>\n",
       "      <td>...</td>\n",
       "      <td>Des Plaines</td>\n",
       "      <td>2/2/2021 12:00:00 AM</td>\n",
       "      <td>NaN</td>\n",
       "      <td>DES PLAINES PD</td>\n",
       "      <td>NaN</td>\n",
       "      <td>2/2/2021 2:20:00 PM</td>\n",
       "      <td>02/04/2021 12:00:00 AM</td>\n",
       "      <td>Approved</td>\n",
       "      <td>3/19/2021 12:00:00 AM</td>\n",
       "      <td>UUW - Unlawful Use of Weapon</td>\n",
       "    </tr>\n",
       "    <tr>\n",
       "      <th>248142</th>\n",
       "      <td>445527409730</td>\n",
       "      <td>905322500577</td>\n",
       "      <td>2/4/2021 12:00:00 AM</td>\n",
       "      <td>Domestic Battery</td>\n",
       "      <td>True</td>\n",
       "      <td>447970697900</td>\n",
       "      <td>836537247156</td>\n",
       "      <td>DOMESTIC BATTERY</td>\n",
       "      <td>1</td>\n",
       "      <td>3/23/2021 12:00:00 AM</td>\n",
       "      <td>...</td>\n",
       "      <td>Franklin Park</td>\n",
       "      <td>2/3/2021 12:00:00 AM</td>\n",
       "      <td>NaN</td>\n",
       "      <td>COOK COUNTY SHERIFF'S POLICE PATROL MAYWOOD (I...</td>\n",
       "      <td>NaN</td>\n",
       "      <td>2/9/2021 11:25:00 AM</td>\n",
       "      <td>02/10/2021 12:00:00 AM</td>\n",
       "      <td>Approved</td>\n",
       "      <td>3/11/2021 12:00:00 AM</td>\n",
       "      <td>Domestic Battery</td>\n",
       "    </tr>\n",
       "    <tr>\n",
       "      <th>248143</th>\n",
       "      <td>445587767000</td>\n",
       "      <td>905518794790</td>\n",
       "      <td>2/9/2021 12:00:00 AM</td>\n",
       "      <td>Driving With Suspended Or Revoked License</td>\n",
       "      <td>True</td>\n",
       "      <td>447955866546</td>\n",
       "      <td>837760215766</td>\n",
       "      <td>DRIVING ON SUSPENDED LICENSE</td>\n",
       "      <td>1</td>\n",
       "      <td>3/11/2021 12:00:00 AM</td>\n",
       "      <td>...</td>\n",
       "      <td>Berwyn</td>\n",
       "      <td>7/28/2020 12:00:00 AM</td>\n",
       "      <td>NaN</td>\n",
       "      <td>BERWYN PD</td>\n",
       "      <td>NaN</td>\n",
       "      <td>2/4/2021 4:35:00 PM</td>\n",
       "      <td>NaN</td>\n",
       "      <td>NaN</td>\n",
       "      <td>3/9/2021 12:00:00 AM</td>\n",
       "      <td>Driving With Suspended Or Revoked License</td>\n",
       "    </tr>\n",
       "    <tr>\n",
       "      <th>248144</th>\n",
       "      <td>445592613204</td>\n",
       "      <td>905533705601</td>\n",
       "      <td>2/9/2021 12:00:00 AM</td>\n",
       "      <td>Driving With Suspended Or Revoked License</td>\n",
       "      <td>True</td>\n",
       "      <td>447966223356</td>\n",
       "      <td>837758347354</td>\n",
       "      <td>DRIVING ON SUSPENDED LICENSE</td>\n",
       "      <td>1</td>\n",
       "      <td>3/11/2021 12:00:00 AM</td>\n",
       "      <td>...</td>\n",
       "      <td>Berwyn</td>\n",
       "      <td>6/17/2020 12:00:00 AM</td>\n",
       "      <td>NaN</td>\n",
       "      <td>BERWYN PD</td>\n",
       "      <td>NaN</td>\n",
       "      <td>2/4/2021 4:35:00 PM</td>\n",
       "      <td>NaN</td>\n",
       "      <td>NaN</td>\n",
       "      <td>3/9/2021 12:00:00 AM</td>\n",
       "      <td>Driving With Suspended Or Revoked License</td>\n",
       "    </tr>\n",
       "    <tr>\n",
       "      <th>248145</th>\n",
       "      <td>445593200623</td>\n",
       "      <td>905535215556</td>\n",
       "      <td>2/9/2021 12:00:00 AM</td>\n",
       "      <td>Driving With Suspended Or Revoked License</td>\n",
       "      <td>True</td>\n",
       "      <td>447966323908</td>\n",
       "      <td>837759561822</td>\n",
       "      <td>DRIVING ON SUSPENDED LICENSE</td>\n",
       "      <td>1</td>\n",
       "      <td>3/21/2021 12:00:00 AM</td>\n",
       "      <td>...</td>\n",
       "      <td>Berwyn</td>\n",
       "      <td>2/4/2021 12:00:00 AM</td>\n",
       "      <td>NaN</td>\n",
       "      <td>BERWYN PD</td>\n",
       "      <td>NaN</td>\n",
       "      <td>2/4/2021 4:35:00 PM</td>\n",
       "      <td>NaN</td>\n",
       "      <td>NaN</td>\n",
       "      <td>3/9/2021 12:00:00 AM</td>\n",
       "      <td>Driving With Suspended Or Revoked License</td>\n",
       "    </tr>\n",
       "  </tbody>\n",
       "</table>\n",
       "<p>248146 rows × 41 columns</p>\n",
       "</div>"
      ],
      "text/plain": [
       "             CASE_ID  CASE_PARTICIPANT_ID          RECEIVED_DATE  \\\n",
       "0       149765331439         175691153649  8/15/1984 12:00:00 AM   \n",
       "1       149765331439         175691153649  8/15/1984 12:00:00 AM   \n",
       "2       149765331439         175691153649  8/15/1984 12:00:00 AM   \n",
       "3       149765331439         175691153649  8/15/1984 12:00:00 AM   \n",
       "4       149765331439         175691153649  8/15/1984 12:00:00 AM   \n",
       "...              ...                  ...                    ...   \n",
       "248141  445516248775         905289187184   2/3/2021 12:00:00 AM   \n",
       "248142  445527409730         905322500577   2/4/2021 12:00:00 AM   \n",
       "248143  445587767000         905518794790   2/9/2021 12:00:00 AM   \n",
       "248144  445592613204         905533705601   2/9/2021 12:00:00 AM   \n",
       "248145  445593200623         905535215556   2/9/2021 12:00:00 AM   \n",
       "\n",
       "                                 OFFENSE_CATEGORY  PRIMARY_CHARGE_FLAG  \\\n",
       "0                               PROMIS Conversion                False   \n",
       "1                               PROMIS Conversion                False   \n",
       "2                               PROMIS Conversion                False   \n",
       "3                               PROMIS Conversion                False   \n",
       "4                               PROMIS Conversion                False   \n",
       "...                                           ...                  ...   \n",
       "248141                              Home Invasion                 True   \n",
       "248142                           Domestic Battery                 True   \n",
       "248143  Driving With Suspended Or Revoked License                 True   \n",
       "248144  Driving With Suspended Or Revoked License                 True   \n",
       "248145  Driving With Suspended Or Revoked License                 True   \n",
       "\n",
       "           CHARGE_ID  CHARGE_VERSION_ID  DISPOSITION_CHARGED_OFFENSE_TITLE  \\\n",
       "0        50510112469       116304211997                FIRST DEGREE MURDER   \n",
       "1        50510213021        98265074680                      HOME INVASION   \n",
       "2        50516447217       131972895911                FIRST DEGREE MURDER   \n",
       "3        50516497493       131966356472                FIRST DEGREE MURDER   \n",
       "4        50516648320        98059642859                      HOME INVASION   \n",
       "...              ...                ...                                ...   \n",
       "248141  447867029248       836341344232  AGGRAVATED UNLAWFUL USE OF WEAPON   \n",
       "248142  447970697900       836537247156                   DOMESTIC BATTERY   \n",
       "248143  447955866546       837760215766       DRIVING ON SUSPENDED LICENSE   \n",
       "248144  447966223356       837758347354       DRIVING ON SUSPENDED LICENSE   \n",
       "248145  447966323908       837759561822       DRIVING ON SUSPENDED LICENSE   \n",
       "\n",
       "        CHARGE_COUNT        DISPOSITION_DATE  ...  INCIDENT_CITY  \\\n",
       "0                  2  12/17/2014 12:00:00 AM  ...            NaN   \n",
       "1                 14  12/17/2014 12:00:00 AM  ...            NaN   \n",
       "2                  4  12/17/2014 12:00:00 AM  ...            NaN   \n",
       "3                  5  12/17/2014 12:00:00 AM  ...            NaN   \n",
       "4                 13  12/17/2014 12:00:00 AM  ...            NaN   \n",
       "...              ...                     ...  ...            ...   \n",
       "248141             1   3/19/2021 12:00:00 AM  ...    Des Plaines   \n",
       "248142             1   3/23/2021 12:00:00 AM  ...  Franklin Park   \n",
       "248143             1   3/11/2021 12:00:00 AM  ...         Berwyn   \n",
       "248144             1   3/11/2021 12:00:00 AM  ...         Berwyn   \n",
       "248145             1   3/21/2021 12:00:00 AM  ...         Berwyn   \n",
       "\n",
       "          INCIDENT_BEGIN_DATE INCIDENT_END_DATE  \\\n",
       "0        8/9/1984 12:00:00 AM               NaN   \n",
       "1        8/9/1984 12:00:00 AM               NaN   \n",
       "2        8/9/1984 12:00:00 AM               NaN   \n",
       "3        8/9/1984 12:00:00 AM               NaN   \n",
       "4        8/9/1984 12:00:00 AM               NaN   \n",
       "...                       ...               ...   \n",
       "248141   2/2/2021 12:00:00 AM               NaN   \n",
       "248142   2/3/2021 12:00:00 AM               NaN   \n",
       "248143  7/28/2020 12:00:00 AM               NaN   \n",
       "248144  6/17/2020 12:00:00 AM               NaN   \n",
       "248145   2/4/2021 12:00:00 AM               NaN   \n",
       "\n",
       "                                   LAW_ENFORCEMENT_AGENCY  \\\n",
       "0                                     CHICAGO POLICE DEPT   \n",
       "1                                     CHICAGO POLICE DEPT   \n",
       "2                                     CHICAGO POLICE DEPT   \n",
       "3                                     CHICAGO POLICE DEPT   \n",
       "4                                     CHICAGO POLICE DEPT   \n",
       "...                                                   ...   \n",
       "248141                                     DES PLAINES PD   \n",
       "248142  COOK COUNTY SHERIFF'S POLICE PATROL MAYWOOD (I...   \n",
       "248143                                          BERWYN PD   \n",
       "248144                                          BERWYN PD   \n",
       "248145                                          BERWYN PD   \n",
       "\n",
       "       LAW_ENFORCEMENT_UNIT            ARREST_DATE      FELONY_REVIEW_DATE  \\\n",
       "0                       NaN  8/15/1984 12:00:00 AM  08/15/1984 12:00:00 AM   \n",
       "1                       NaN  8/15/1984 12:00:00 AM  08/15/1984 12:00:00 AM   \n",
       "2                       NaN  8/15/1984 12:00:00 AM  08/15/1984 12:00:00 AM   \n",
       "3                       NaN  8/15/1984 12:00:00 AM  08/15/1984 12:00:00 AM   \n",
       "4                       NaN  8/15/1984 12:00:00 AM  08/15/1984 12:00:00 AM   \n",
       "...                     ...                    ...                     ...   \n",
       "248141                  NaN    2/2/2021 2:20:00 PM  02/04/2021 12:00:00 AM   \n",
       "248142                  NaN   2/9/2021 11:25:00 AM  02/10/2021 12:00:00 AM   \n",
       "248143                  NaN    2/4/2021 4:35:00 PM                     NaN   \n",
       "248144                  NaN    2/4/2021 4:35:00 PM                     NaN   \n",
       "248145                  NaN    2/4/2021 4:35:00 PM                     NaN   \n",
       "\n",
       "       FELONY_REVIEW_RESULT       ARRAIGNMENT_DATE  \\\n",
       "0        Charge(S) Approved  9/21/1984 12:00:00 AM   \n",
       "1        Charge(S) Approved  9/21/1984 12:00:00 AM   \n",
       "2        Charge(S) Approved  9/21/1984 12:00:00 AM   \n",
       "3        Charge(S) Approved  9/21/1984 12:00:00 AM   \n",
       "4        Charge(S) Approved  9/21/1984 12:00:00 AM   \n",
       "...                     ...                    ...   \n",
       "248141             Approved  3/19/2021 12:00:00 AM   \n",
       "248142             Approved  3/11/2021 12:00:00 AM   \n",
       "248143                  NaN   3/9/2021 12:00:00 AM   \n",
       "248144                  NaN   3/9/2021 12:00:00 AM   \n",
       "248145                  NaN   3/9/2021 12:00:00 AM   \n",
       "\n",
       "                         UPDATED_OFFENSE_CATEGORY  \n",
       "0                                        Homicide  \n",
       "1                                        Homicide  \n",
       "2                                        Homicide  \n",
       "3                                        Homicide  \n",
       "4                                        Homicide  \n",
       "...                                           ...  \n",
       "248141               UUW - Unlawful Use of Weapon  \n",
       "248142                           Domestic Battery  \n",
       "248143  Driving With Suspended Or Revoked License  \n",
       "248144  Driving With Suspended Or Revoked License  \n",
       "248145  Driving With Suspended Or Revoked License  \n",
       "\n",
       "[248146 rows x 41 columns]"
      ]
     },
     "execution_count": 3,
     "metadata": {},
     "output_type": "execute_result"
    }
   ],
   "source": [
    "pd.read_csv('sentencing_asof0405.csv')"
   ]
  },
  {
   "cell_type": "markdown",
   "metadata": {},
   "source": [
    "## 0.2 Print head, dimensions, info for the data (0 points)"
   ]
  },
  {
   "cell_type": "code",
   "execution_count": 4,
   "metadata": {},
   "outputs": [
    {
     "ename": "NameError",
     "evalue": "name 'df' is not defined",
     "output_type": "error",
     "traceback": [
      "\u001b[0;31m---------------------------------------------------------------------------\u001b[0m",
      "\u001b[0;31mNameError\u001b[0m                                 Traceback (most recent call last)",
      "Input \u001b[0;32mIn [4]\u001b[0m, in \u001b[0;36m<cell line: 1>\u001b[0;34m()\u001b[0m\n\u001b[0;32m----> 1\u001b[0m \u001b[43mdf\u001b[49m\u001b[38;5;241m.\u001b[39mhead()\n",
      "\u001b[0;31mNameError\u001b[0m: name 'df' is not defined"
     ]
    }
   ],
   "source": [
    "df.head()"
   ]
  },
  {
   "cell_type": "markdown",
   "metadata": {},
   "source": [
    "# Part one: data cleaning/interpretation (28 points)"
   ]
  },
  {
   "cell_type": "markdown",
   "metadata": {},
   "source": [
    "## 1.1: Understanding the unit of analysis (5 points)\n",
    "\n",
    "\n",
    "### 1.1.1 Print the number of unique values for the following columns. Do so in a way that avoids copying/pasting code for the three (eg apply):\n",
    "\n",
    "    - Cases (CASE_ID)\n",
    "    - People (CASE_PARTICIPANT_ID)\n",
    "    - Charges (CHARGE_ID)\n"
   ]
  },
  {
   "cell_type": "markdown",
   "metadata": {},
   "source": [
    "**Sources for this question**: slide 21 here on column-wise apply: https://github.com/rebeccajohnson88/PPOL564_slides_activities/blob/main/slides/fall_22/02_ppol564_f22_datawrangling.pdf"
   ]
  },
  {
   "cell_type": "code",
   "execution_count": null,
   "metadata": {},
   "outputs": [],
   "source": []
  },
  {
   "cell_type": "markdown",
   "metadata": {},
   "source": [
    "### 1.1.2   Write a couple sentences on the following and show an example of each (e.g., a case involving multiple people):\n",
    "   \n",
    "- Why there are more unique people than unique cases?\n",
    "- Why there are more unique charges than unique people?\n",
    "\n",
    "**Resources**: groupby and agg covered in:\n",
    "- This activity: https://github.com/rebeccajohnson88/PPOL564_slides_activities/blob/main/activities/fall_22/solutions/01_pandas_datacleaning_solutions.ipynb\n",
    "\n",
    "- These lecture slides: https://github.com/rebeccajohnson88/PPOL564_slides_activities/blob/main/slides/fall_22/02_ppol564_f22_datawrangling.pdf"
   ]
  },
  {
   "cell_type": "code",
   "execution_count": null,
   "metadata": {},
   "outputs": [],
   "source": [
    "\n"
   ]
  },
  {
   "cell_type": "markdown",
   "metadata": {},
   "source": [
    "\n",
    "### 1.1.3 Finding mean and median \n",
    "\n",
    "- Print the mean and median number of charges per `CASE_PARTICIPANT_ID`\n",
    "\n",
    "- Print the mean and median number of participants per `CASE_ID`\n"
   ]
  },
  {
   "cell_type": "code",
   "execution_count": null,
   "metadata": {},
   "outputs": [],
   "source": [
    "\n"
   ]
  },
  {
   "cell_type": "markdown",
   "metadata": {},
   "source": [
    "### 1.1.4 Does the data seem to enable us to follow the same defendant across different cases they're charged in? Write 1 sentence in support of your conclusion."
   ]
  },
  {
   "cell_type": "code",
   "execution_count": null,
   "metadata": {},
   "outputs": [],
   "source": [
    "\n"
   ]
  },
  {
   "cell_type": "markdown",
   "metadata": {},
   "source": [
    "## 1.2.1 Which offense is final? (3 points)\n",
    "\n",
    "- First, read the data documentation (link here: https://datacatalog.cookcountyil.gov/api/views/tg8v-tm6u/files/8597cdda-f7e1-44d1-b0ce-0a4e43f8c980?download=true&filename=CCSAO%20Data%20Glossary.pdf) and summarize in your own words the differences between `OFFENSE_CATEGORY` and `UPDATED_OFFENSE_CATEGORY` \n",
    "\n",
    "- Construct an indicator `is_changed_offense` that's True for case-participant-charge observations (rows) where there's a difference between the `OFFENSE_CATEGORY` and the `UPDATED_OFFENSE_CATEGORY`. What are some of the more common changed offenses? (can just print result of sort_values based on `OFFENSE_CATEGORY`)\n",
    "\n",
    "- Print one example of a changed offense from one of these categories and comment on what the reason may be\n",
    "\n",
    "**Resources**: row subsetting, groupby/agg, and np.where covered in lecture slides\n",
    " "
   ]
  },
  {
   "cell_type": "code",
   "execution_count": null,
   "metadata": {},
   "outputs": [],
   "source": []
  },
  {
   "cell_type": "markdown",
   "metadata": {},
   "source": [
    "## 1.2.2 Simplifying the charges (5 points)\n",
    "\n",
    "Using the field (`UPDATED_OFFENSE_CATEGORY`), create a new field, `simplified_offense_derived`, that simplifies the many offense categories into broader buckets using the following process:\n",
    "\n",
    "First, create a new variable that strips \"Aggravated\" from the UPDATED_OFFENSE_CATEGORY (e.g., Aggravated Battery and Battery just becomes Battery)\n",
    "\n",
    "**Resources**: slide 25 of this lecture has str.replace (example with stripping the name johnson from a last name): https://github.com/rebeccajohnson88/PPOL564_slides_activities/blob/main/slides/fall_22/02_ppol564_f22_datawrangling.pdf"
   ]
  },
  {
   "cell_type": "code",
   "execution_count": 2,
   "metadata": {},
   "outputs": [],
   "source": [
    "### first, strip aggravated\n"
   ]
  },
  {
   "cell_type": "markdown",
   "metadata": {},
   "source": [
    "\n",
    "Then:\n",
    "- Combine all offenses with arson in the string into a single arson category (`Arson`)\n",
    "- Combine all offenses with homicide in the string into a single homicide category (`Homicide`)\n",
    "- Combine all offenses with vehicle/vehicular in the string into a single vehicle category (`Vehicle-related`)\n",
    "- Combine all offenses with battery in the string into a single battery category (`Battery`)\n",
    "\n",
    "Do so efficiently (e.g., using map and a dictionary or np.select rather than separate line for each recoded offense)\n",
    "\n",
    "**Resources**:\n",
    "- Activity code and lecture 2 slides cover np.select and map.recode (can use one or the other)"
   ]
  },
  {
   "cell_type": "code",
   "execution_count": null,
   "metadata": {},
   "outputs": [],
   "source": []
  },
  {
   "cell_type": "markdown",
   "metadata": {},
   "source": [
    "Print the difference between the # of unique offenses in the original `UPDATED_OFFENSE_CATEGORY` field and the # of unique offenses in your new `simplified_offense_derived` field. How many and which ones change?"
   ]
  },
  {
   "cell_type": "code",
   "execution_count": null,
   "metadata": {},
   "outputs": [],
   "source": []
  },
  {
   "cell_type": "markdown",
   "metadata": {},
   "source": [
    "## 1.3 Cleaning additional variables (10 points)\n",
    "\n",
    "Clean the following variables; make sure to retain the original variable in data; we tell you to use the derived suffix so it's easier to pull these cleaned out variables later \n",
    "\n",
    "### 1.3.1 \n",
    "- Race: create True/false indicators for `is_black_derived` (Black only or `White/Black [Hispanic or Latino]`), `is_hisp_derived` (Non-Black Hispanic, so either hispanic alone or white hispanic), `is_white_derived` (White non-hispanic), or `is_other_derived` (none of the above)\n",
    "\n",
    "### 1.3.2\n",
    "- Gender: create a boolean true/false indicator for `is_male_derived` (false is female, unknown, or other)\n",
    "\n",
    "### 1.3.3\n",
    "- Age at incident: you notice outliers like 130-year olds. Recode the top 0.01% of values to be equal to the 99.99th percentile value (this is sometimes called `winsorizing` but don't worry about the terminology). Call this `age_derived`\n",
    "\n",
    "**Resources**: `np.where` slides linked to above \n"
   ]
  },
  {
   "cell_type": "code",
   "execution_count": null,
   "metadata": {},
   "outputs": [],
   "source": []
  },
  {
   "cell_type": "markdown",
   "metadata": {},
   "source": [
    "### 1.3.4\n",
    "- Create `sentenceymd_derived` that's a version of `SENTENCING_DATE` converted to datetime format. Also create a rounded version, `sentenceym_derived`, that's rounded down to the first of the month and the year (e.g., 01-05-2016 and 01-27-2016 each become 01-01-2016)\n",
    "    - Hint: all timestamps are midnight so you can strip the timestamp. Before converting, you'll notice that some of the years have been mistranscribed (e.g., 291X or 221X instead of 201X). Programatically fix those (eg 2914 -> 2014). You can use this regex code to clean the dates or write your own pattern: https://github.com/rebeccajohnson88/PPOL564_slides_activities/issues/20\n",
    "    \n",
    "Even after cleaning, there will still be some that are after the year 2021 that we'll filter out later.\n",
    "\n",
    "**Resources**:\n",
    "\n",
    "- pd.to_datetime() used in this activity: https://github.com/rebeccajohnson88/PPOL564_slides_activities/blob/main/activities/fall_22/solutions/01_pandas_datacleaning_solutions.ipynb \n",
    "- extract the month and year from a datetime object using the dt accessor (similar syntax for year): https://pandas.pydata.org/docs/reference/api/pandas.Series.dt.month.html \n"
   ]
  },
  {
   "cell_type": "code",
   "execution_count": null,
   "metadata": {},
   "outputs": [],
   "source": []
  },
  {
   "cell_type": "markdown",
   "metadata": {},
   "source": [
    "### 1.3.5\n",
    "\n",
    "- Sentencing judge: create an identifier (`judgeid_derived`) for each unique judge (`SENTENCE_JUDGE`) structured as judge_1, judge_2.... When finding unique judges, there are various duplicates we could weed out --- for now, just focus on (1) the different iterations of Doug/Douglas Simpson, (2) the different iterations of Shelley Sutker (who appears both with her maiden name and her hyphenated married name). Note that you can do this more manually by creating a list with the different name variations and receive full credit (eg no need to use regular expressions).\n",
    "     - Hint: due to mixed types, you may need to cast the `SENTENCE_JUDGE` var to a diff type in order to be able to sort\n"
   ]
  },
  {
   "cell_type": "code",
   "execution_count": null,
   "metadata": {},
   "outputs": [],
   "source": []
  },
  {
   "cell_type": "markdown",
   "metadata": {},
   "source": [
    "\n",
    "After finishing, print a random sample of 10 rows with the original and cleaned columns for the relevant variables\n",
    "\n",
    "**Resources**: sample command here: https://pandas.pydata.org/docs/reference/api/pandas.DataFrame.sample.html"
   ]
  },
  {
   "cell_type": "code",
   "execution_count": null,
   "metadata": {},
   "outputs": [],
   "source": [
    "\n"
   ]
  },
  {
   "cell_type": "markdown",
   "metadata": {},
   "source": [
    "## 1.4 Subsetting rows to analytic dataset (5 points)\n",
    "\n",
    "You decide based on the above to simplify things in the following ways:\n",
    "    \n",
    "- Subset to cases where only one participant is charged, since cases with >1 participant might have complications like \n",
    "plea bargains/informing from other participants affecting the sentencing of the focal participant\n",
    "\n",
    "- To go from a participant-case level dataset, where each participant is repeated across charges tied to the case, to a participant-level dataset, where each participant has one charge, subset to a participant's primary charge and their current sentence (`PRIMARY_CHARGE_FLAG` is True and `CURRENT_SENTENCE_FLAG` is True). Double check that this worked by confirming there are no longer multiple charges for the same case-participant\n",
    "\n",
    "- Filter out observations where judge is nan or nonsensical (indicated by is.null or equal to FLOOD)\n",
    "\n",
    "- Subsetting to sentencing date between 01-01-2012 and 04-05-2021 (inclusive)"
   ]
  },
  {
   "cell_type": "code",
   "execution_count": null,
   "metadata": {},
   "outputs": [],
   "source": [
    "\n"
   ]
  },
  {
   "cell_type": "markdown",
   "metadata": {},
   "source": [
    "# Part two: investigating Black vs. White sentencing disparities (36 points)\n",
    "\n",
    "Now that the data are cleaned, we're going to investigate different types of disparities in sentencing between Black defendants and White defendants. We're focusing on these groups for the purpose of the problem set, but the analysis could be extended to study Hispanic defendants or, in a different jurisdiction, Asian and other minoritized groups.\n",
    "\n",
    "**Details if interested in digging deeper**: If interested (optional), you can read more technical coverage of how we might (1) measure disparities, and (2) what factors you want to adjust for when deciding whether two defendants are 'similarly situated' but for their race in the following sources:\n",
    "\n",
    "- [Review of sentencing disparities research](https://www.journals.uchicago.edu/doi/full/10.1086/701505)\n",
    "- [Discussion of causal model/blinding race at charging stage of the prosecutorial process](https://5harad.com/papers/blind-charging.pdf)\n",
    "- [Discussion of measuring discrimination in policing that can generalize to the sentencing case](https://www.annualreviews.org/doi/abs/10.1146/annurev-criminol-011518-024731)\n",
    "- [General discussion of causal challenges in measuring between-group disparities](https://osf.io/preprints/socarxiv/gx4y3/)\n",
    "\n",
    "**One major caveat**: when comparing whether two similar defendants received different sentences, we're missing one important attribute that influences sentencing: the defendant's criminal history. This influences sentencing both through sentencing guidelines, which can prescribe longer sentences for those who have certain types of prior convictions, and through judicial discretion if judges are more lenient with first-time defendants. The above sources discuss how much we want to \"control away\" for this prior history, since if we think there are racial biases in which defendants, conditional on *committing* a crime, are arrested and charged, we may not want to adjust for that factor.\n"
   ]
  },
  {
   "cell_type": "markdown",
   "metadata": {},
   "source": [
    "## 2.0 (0 points)"
   ]
  },
  {
   "cell_type": "markdown",
   "metadata": {},
   "source": [
    "First, read in the following dataset (regardless of progress on part one): `sentencing_cleaned.csv`\n",
    "\n",
    "*Note*: don't worry if there are slight differences in your output from Part One and this dataset/it's not a good use of time to try to reverse engineer Part One answers from this cleaned data."
   ]
  },
  {
   "cell_type": "markdown",
   "metadata": {},
   "source": [
    "## 2.1 Investigating one type of between-group difference: who reaches the sentencing stage? (5 points)\n",
    "\n",
    "Calculate the fraction of Black versus White defendants by month and year\n",
    "\n",
    "- Denominator is number of unique cases that month\n",
    "- Numerator for black defendants is count of is_black_derived\n",
    "- Numerator for white defendants is count of is_white_derived\n",
    "- Fraction of each is numerator/denominator\n",
    "\n",
    "**Resources**: groupby and agg code listed above"
   ]
  },
  {
   "cell_type": "code",
   "execution_count": null,
   "metadata": {},
   "outputs": [],
   "source": []
  },
  {
   "cell_type": "markdown",
   "metadata": {},
   "source": [
    "- With that calculation, create a graph with two lines--- one for Black defendants as fraction of total; another for White defendants. Make sure it includes a legend summarizing which color is for which group, and clean the legend so that it has informative names (e.g., Black or White rather than prop_black or prop_white)\n",
    "- Use mathematical notation to write out each of the proportions using summation notation in a 1-2 sentence writeup describing trends. What seems to be going on in April and May 2020? \n",
    "\n",
    "**Optional challenge (no extra credit points)**: improve the viz by shading the background of the visualization for months with fewer than 100 cases \n",
    "\n",
    "**Optional challenge (no extra credit points)**: improve the viz by adding a vertical line for 12-01-2016, the month that new State's Attorney Foxx took office "
   ]
  },
  {
   "cell_type": "code",
   "execution_count": null,
   "metadata": {},
   "outputs": [],
   "source": []
  },
  {
   "cell_type": "markdown",
   "metadata": {},
   "source": [
    "## 2.2 Investigating the first type of disparity: probation versus incarceration (10 points)\n",
    "\n",
    "One type of disparity beyond who arrives at the sentencing stage is whether the defendant receives probation or incaceration.\n",
    "\n",
    "According to the codebook, incarceration is indicated by `COMMITMENT_TYPE` == \"Illinois Department of Corrections\"\n",
    "\n",
    "Recreate the previous plot but where the y axis represents the difference between the following proportions (can be either Black - White or White - Black but make sure to label):\n",
    "\n",
    "- Percent of black defendants who are incarcerated out of all black defendants that month/year \n",
    "- Percent of white defendants who are incarcerated out of all white defendants that month/year \n",
    "\n",
    "Briefly interpret the results"
   ]
  },
  {
   "cell_type": "code",
   "execution_count": null,
   "metadata": {},
   "outputs": [],
   "source": []
  },
  {
   "cell_type": "markdown",
   "metadata": {},
   "source": [
    "## 2.3 Investigating mechanisms: incarceration rates by charge\n",
    "\n",
    "Your colleague sees the previous graph and is worried that the gap could be different---either wider or smaller---if you adjust for the fact that prosecutors have discretion in what crimes to charge defendants with. If white defendants are charged with crimes that tend to receive probation rather than incarceration, that could explain some of the gaps.\n",
    "\n",
    "In the next questions, you'll begin to investigate this."
   ]
  },
  {
   "cell_type": "markdown",
   "metadata": {},
   "source": [
    "### 2.3.1 Find the most common offenses (3 points)\n",
    "\n",
    "First, create a set of 'frequent offenses' that represent (over the entire period) the union of the 10 offenses Black defendant are most likely to be charged with and the 10 offenses white defendants are most likely to be charged with (might be far less than 20 total if there's a lot of overlap in common charges)\n",
    "\n",
    "Use the `simplified_offense_derived` for this"
   ]
  },
  {
   "cell_type": "code",
   "execution_count": null,
   "metadata": {},
   "outputs": [],
   "source": []
  },
  {
   "cell_type": "markdown",
   "metadata": {},
   "source": [
    "### 2.3.2 Look at incarceration rates (again just whether incarcerated) by race and offense type for these top offenses (3 points)\n",
    "\n",
    "Print a wide-format version of the resulting table (so each row is an offense type, one col is black incarceration rate for that offense type; another is the white incarceration rate) and interpret. What offenses show the largest disparities in judges being less likely to sentence White defendants to incarceration/more likely to offer those defendants probation?\n"
   ]
  },
  {
   "cell_type": "code",
   "execution_count": null,
   "metadata": {},
   "outputs": [],
   "source": []
  },
  {
   "cell_type": "markdown",
   "metadata": {},
   "source": [
    "### 2.3.3 Examine whether this changes pre and post change to charging threshold for retail theft (14 points)\n",
    "\n",
    "One important question is not only whether there are disparities by offense type but also whether these disparities are changing over time.\n",
    "\n",
    "The SAO (State Attorney Office), for instance, announced in December of 2016 that they would no longer default to charging retail thefts of under \\$1,000 as felonies. This change might have (1) decreased disparities or (2) increased disparities, depending on the correlation between race/ethnicity and magnitude of goods stolen: https://www.dnainfo.com/chicago/20161215/little-village/kim-foxx-raises-bar-for-retail-theft-felonies/. \n",
    "\n",
    "Focusing on `simplified_offense_derived` == \"Retail theft.\" Write a user-defined function that allows you to efficiently: \n",
    "\n",
    "- Compare Black-White disparities before and after the change using a two-month bandwidth (so pre is October and November 2016; post is January and February 2017)\n",
    "\n",
    "- Compare Black-White disparities before and after the change using a four-month bandwidth (so pre is August- November 2016; post is January - April 2017)\n",
    "\n",
    "- Compare Black-White disparities using an eight-month bandwidth\n",
    "\n",
    "- Compare Black-White disparities using a twelve-month bandwidth\n",
    "\n",
    "**Note**: Dec. 2016 is always excluded as a transition month\n",
    "\n",
    "------------------ \n",
    "\n",
    "- Print a table with the results (any organization is fine as long as it's clear)  \n",
    " \n",
    "**Resources**:\n",
    "    \n",
    "- User-defined function example in lecture on 09/07"
   ]
  },
  {
   "cell_type": "code",
   "execution_count": null,
   "metadata": {},
   "outputs": [],
   "source": []
  },
  {
   "cell_type": "markdown",
   "metadata": {},
   "source": [
    "- Use that table to create a bar chart where the x axis represents different bandwidths (2, 4, etc); the y axis the size of the Black-White gap, and for each of the x axis points, you have one shaded bar representing \"before\" the change, another representing \"after\" the change (make sure that before is ordered before after and the bandwidths are from smallest to largest)\n",
    "\n",
    "*Note*: for each of the bandwidths include dates spanning the entire month (e.g., for the first, include not only 02-01-2017 but everything up through 02-28-2017; easiest way is for the subsetting to use the rounded `sentenceym_derived`. Also make sure to only include white or black defendants.\n",
    "\n",
    "\n",
    "**Hint**: depending on how you calculate/reshape things, you may find this issue useful for how to collapse column names with a multilevel index (also may not need it depending on how you structure the code): https://stackoverflow.com/questions/24290297/pandas-dataframe-with-multiindex-column-merge-levels\n",
    "\n",
    "\n",
    "**Extra credit**: because the bandwidths have different sample sizes, a better viz incorporates measures of uncertainty. Add standard errors to the points using the formula: $(\\dfrac{p(1-p)}{n})^{0.5}$ where N is the number of cases in each bandwidth period"
   ]
  },
  {
   "cell_type": "code",
   "execution_count": null,
   "metadata": {},
   "outputs": [],
   "source": []
  },
  {
   "cell_type": "markdown",
   "metadata": {},
   "source": [
    "### 2.3.4 Interpret the results (1 point)\n",
    "\n",
    "Write a two-sentence interpretation of the results. What might this show about how people on both sides of the issue---those arguing the policy change will narrow disparities; those arguing the change may widen disparities--could support their claims? "
   ]
  },
  {
   "cell_type": "markdown",
   "metadata": {},
   "source": []
  },
  {
   "cell_type": "markdown",
   "metadata": {},
   "source": [
    "# 3. Extra credit (2 points)\n",
    "\n",
    "The above question asked about black-white disparities before and after the policy change. Write a new user-defined function that:\n",
    "\n",
    "- Has an argument(s) to indicate the levels of the `RACE` variable in the original data that will constitute two groups to compare: group 1 and group 2 (eg in one execution of the function, group 1 might be non-Hispanic white; group 2 might be Hispanic and Black; in another execution, group 1 might be Asian; group 2 but might be Hispanic. Note all levels need to be included in a group)\n",
    "- Can be used to calculate the same bandwidth-specific disparities as above for defendants in those two groups\n",
    "- Returns a table or plot with the results\n"
   ]
  },
  {
   "cell_type": "code",
   "execution_count": null,
   "metadata": {},
   "outputs": [],
   "source": []
  }
 ],
 "metadata": {
  "kernelspec": {
   "display_name": "GU",
   "language": "python",
   "name": "gu"
  },
  "language_info": {
   "codemirror_mode": {
    "name": "ipython",
    "version": 3
   },
   "file_extension": ".py",
   "mimetype": "text/x-python",
   "name": "python",
   "nbconvert_exporter": "python",
   "pygments_lexer": "ipython3",
   "version": "3.10.4"
  }
 },
 "nbformat": 4,
 "nbformat_minor": 4
}
