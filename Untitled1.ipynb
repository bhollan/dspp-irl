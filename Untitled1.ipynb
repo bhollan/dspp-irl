{
 "cells": [
  {
   "cell_type": "code",
   "execution_count": 1,
   "id": "ff6a3768",
   "metadata": {},
   "outputs": [],
   "source": [
    "image1 = [\n",
    "  [1, 1, 1, 1, 1, 1, 1],\n",
    "  [1, 1, 1, 1, 1, 1, 1],\n",
    "  [1, 1, 1, 0, 0, 0, 1],\n",
    "  [1, 1, 1, 0, 0, 0, 1],\n",
    "  [1, 1, 1, 1, 1, 1, 1],\n",
    "]\n",
    "\n",
    "image2 = [\n",
    "  [1, 1, 1, 1, 1, 1, 1],\n",
    "  [1, 1, 1, 1, 1, 1, 1],\n",
    "  [1, 1, 1, 1, 1, 1, 1],\n",
    "  [1, 1, 1, 1, 1, 1, 1],\n",
    "  [1, 1, 1, 1, 1, 1, 0],\n",
    "]\n",
    "\n",
    "image3 = [\n",
    "  [1, 1, 1, 1, 1, 1, 1],\n",
    "  [1, 1, 1, 1, 1, 1, 1],\n",
    "  [1, 1, 1, 1, 1, 1, 1],\n",
    "  [1, 1, 1, 1, 1, 0, 0],\n",
    "  [1, 1, 1, 1, 1, 0, 0],\n",
    "]\n",
    "\n",
    "image4 = [\n",
    "  [0, 1, 1, 1, 1, 1, 1],\n",
    "  [1, 1, 1, 1, 1, 1, 1],\n",
    "  [1, 1, 1, 1, 1, 1, 1],\n",
    "  [1, 1, 1, 1, 1, 1, 1],\n",
    "  [1, 1, 1, 1, 1, 1, 1],\n",
    "]\n",
    "\n",
    "image5 = [\n",
    "  [0],\n",
    "]"
   ]
  },
  {
   "cell_type": "code",
   "execution_count": 6,
   "id": "4875f1e3",
   "metadata": {},
   "outputs": [],
   "source": [
    "def findRectangle(image):\n",
    "    rows = len(image)\n",
    "    cols = len(image[0])\n",
    "    \n",
    "    top_left = None\n",
    "    bottom_right = None\n",
    "    \n",
    "    for row in range(rows):\n",
    "        for col in range(cols):\n",
    "            if image[row][col] == 0:\n",
    "                if top_left is None:\n",
    "                    top_left = (row, col)\n",
    "                bottom_right = (row, col)\n",
    "    \n",
    "    if top_left is None:\n",
    "        return None\n",
    "    \n",
    "    width = bottom_right[1] - top_left[1] + 1\n",
    "    height = bottom_right[0] - top_left[0] + 1\n",
    "    \n",
    "    return f\"row: {top_left[0]}, column: {top_left[1]}, width: {width}, height: {height}\\n{top_left[0]},{top_left[1]} {bottom_right[0]},{bottom_right[1]}\"\n"
   ]
  },
  {
   "cell_type": "code",
   "execution_count": 7,
   "id": "b455bd58",
   "metadata": {},
   "outputs": [
    {
     "data": {
      "text/plain": [
       "'row: 2, column: 3, width: 3, height: 2\\n2,3 3,5'"
      ]
     },
     "execution_count": 7,
     "metadata": {},
     "output_type": "execute_result"
    }
   ],
   "source": [
    "findRectangle(image1)"
   ]
  },
  {
   "cell_type": "code",
   "execution_count": 10,
   "id": "d75a87cf",
   "metadata": {},
   "outputs": [
    {
     "data": {
      "text/plain": [
       "'top-left: (2,3), width: 3, height: 2\\n(2,3) (3,5)'"
      ]
     },
     "execution_count": 10,
     "metadata": {},
     "output_type": "execute_result"
    }
   ],
   "source": [
    "findRectangle(image1)"
   ]
  },
  {
   "cell_type": "code",
   "execution_count": 9,
   "id": "ef285118",
   "metadata": {},
   "outputs": [],
   "source": [
    "def findRectangle(image):\n",
    "    rows = len(image)\n",
    "    cols = len(image[0])\n",
    "    \n",
    "    top = rows  # Initialize top to the maximum possible value\n",
    "    left = cols  # Initialize left to the maximum possible value\n",
    "    bottom = -1  # Initialize bottom to the minimum possible value\n",
    "    right = -1   # Initialize right to the minimum possible value\n",
    "    \n",
    "    for row in range(rows):\n",
    "        for col in range(cols):\n",
    "            if image[row][col] == 0:\n",
    "                top = min(top, row)\n",
    "                left = min(left, col)\n",
    "                bottom = max(bottom, row)\n",
    "                right = max(right, col)\n",
    "    \n",
    "    if bottom == -1:  # No rectangle found\n",
    "        return None\n",
    "    \n",
    "    width = right - left + 1\n",
    "    height = bottom - top + 1\n",
    "    \n",
    "    return f\"top-left: ({top},{left}), width: {width}, height: {height}\\n({top},{left}) ({bottom},{right})\"\n"
   ]
  },
  {
   "cell_type": "code",
   "execution_count": null,
   "id": "92273978",
   "metadata": {},
   "outputs": [],
   "source": []
  }
 ],
 "metadata": {
  "kernelspec": {
   "display_name": "GU",
   "language": "python",
   "name": "gu"
  },
  "language_info": {
   "codemirror_mode": {
    "name": "ipython",
    "version": 3
   },
   "file_extension": ".py",
   "mimetype": "text/x-python",
   "name": "python",
   "nbconvert_exporter": "python",
   "pygments_lexer": "ipython3",
   "version": "3.10.4"
  }
 },
 "nbformat": 4,
 "nbformat_minor": 5
}
